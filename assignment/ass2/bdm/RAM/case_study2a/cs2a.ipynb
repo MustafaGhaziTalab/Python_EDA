{
  "cells": [
    {
      "cell_type": "markdown",
      "metadata": {
        "id": "view-in-github",
        "colab_type": "text"
      },
      "source": [
        "<a href=\"https://colab.research.google.com/github/drshahizan/Python_EDA/blob/main/assignment/ass2/bdm/RAM/case_study2a/cs2a.ipynb\" target=\"_parent\"><img src=\"https://colab.research.google.com/assets/colab-badge.svg\" alt=\"Open In Colab\"/></a>"
      ]
    },
    {
      "cell_type": "markdown",
      "metadata": {
        "id": "TMbYjKTZsEiv"
      },
      "source": [
        "**Air Pollution Index (API) in Malaysia EDA (Pandas-Profiling) by RAM**\n",
        "\n",
        "This project is regarding the exploratory data analysis (EDA) on the Air Pollution Index (API) in Malaysia.\n",
        "The dataset *apims-20kdata.csv* contains the information of the population obtained from (https://www.kaggle.com/datasets/ynshung/malaysia-air-pollution-index).\n",
        "\n",
        "Project Team:\n",
        "\n",
        "\n",
        "| Name          | Matric Number  | Task            |\n",
        "| ------------- | -------------- | --------------- |\n",
        "| MOHAMMED RAZA ASFAK CHIDIMAR     | MCS231004       | Case Study 1   : Step by step EDA          |\n",
        "| AYAZ RAHMAN BHUIYAN    | MCS231023       | Case Study 2a : Pandas-Profiling          |\n",
        "| MUSAB IBNE AHMAD  | MCS231017        | Case Study 2b : DataPrep          |\n",
        "| HUSSEIN YUSUF SHEIKH MOHAMED   | MCS231024       | Case Study 2c :  SweetViz          |\n",
        "\n",
        "\n",
        "\n",
        "\n",
        "Data from 2005 to 2017 are retrieved from data.gov.my under MOSTI, DOE and KeTSA. The data is licensed under Creative Commons Attribution and Open Definition 2.1.\n",
        "\n",
        "The data from 2018 to current date are retrieved directly from APIMS website. Data might still be under copyright (unclear) but it's safe to assume the data will eventually be released under the same license as above.\n",
        "\n",
        "![api-malaysia-scale.png](data:image/png;base64,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)\n",
        "\n",
        "\n",
        "\n",
        "In this case study, We will study Pandas Profiling Automated Exploratory Data Analysis (EDA) Tool. We will demonstrate how Pandas Profiling can be implemented step by step using a Malaysian dataset. Additionally, we will summarize the pros and cons of the Automated EDA Tools used.\n"
      ]
    },
    {
      "cell_type": "markdown",
      "metadata": {
        "id": "LDz5RmVtsHuB"
      },
      "source": [
        "**Implementation of Automated EDA Tools**"
      ]
    },
    {
      "cell_type": "markdown",
      "metadata": {
        "id": "paUm8mRWsKef"
      },
      "source": [
        "**STEP 1: Pandas Profiling Installation ~Deprecated 'pandas-profiling' package, use 'ydata-profiling' instead**"
      ]
    },
    {
      "cell_type": "code",
      "execution_count": 2,
      "metadata": {
        "colab": {
          "base_uri": "https://localhost:8080/"
        },
        "id": "Q6rZpoDwBjz4",
        "outputId": "c56ec5fc-2760-4d95-81de-0a4f9fc56163"
      },
      "outputs": [
        {
          "output_type": "stream",
          "name": "stdout",
          "text": [
            "Requirement already satisfied: notebook in /usr/local/lib/python3.10/dist-packages (6.5.5)\n",
            "Requirement already satisfied: jinja2 in /usr/local/lib/python3.10/dist-packages (from notebook) (3.1.2)\n",
            "Requirement already satisfied: tornado>=6.1 in /usr/local/lib/python3.10/dist-packages (from notebook) (6.3.2)\n",
            "Requirement already satisfied: pyzmq<25,>=17 in /usr/local/lib/python3.10/dist-packages (from notebook) (23.2.1)\n",
            "Requirement already satisfied: argon2-cffi in /usr/local/lib/python3.10/dist-packages (from notebook) (23.1.0)\n",
            "Requirement already satisfied: traitlets>=4.2.1 in /usr/local/lib/python3.10/dist-packages (from notebook) (5.7.1)\n",
            "Requirement already satisfied: jupyter-core>=4.6.1 in /usr/local/lib/python3.10/dist-packages (from notebook) (5.5.1)\n",
            "Requirement already satisfied: jupyter-client<8,>=5.3.4 in /usr/local/lib/python3.10/dist-packages (from notebook) (6.1.12)\n",
            "Requirement already satisfied: ipython-genutils in /usr/local/lib/python3.10/dist-packages (from notebook) (0.2.0)\n",
            "Requirement already satisfied: nbformat in /usr/local/lib/python3.10/dist-packages (from notebook) (5.9.2)\n",
            "Requirement already satisfied: nbconvert>=5 in /usr/local/lib/python3.10/dist-packages (from notebook) (6.5.4)\n",
            "Requirement already satisfied: nest-asyncio>=1.5 in /usr/local/lib/python3.10/dist-packages (from notebook) (1.5.8)\n",
            "Requirement already satisfied: ipykernel in /usr/local/lib/python3.10/dist-packages (from notebook) (5.5.6)\n",
            "Requirement already satisfied: Send2Trash>=1.8.0 in /usr/local/lib/python3.10/dist-packages (from notebook) (1.8.2)\n",
            "Requirement already satisfied: terminado>=0.8.3 in /usr/local/lib/python3.10/dist-packages (from notebook) (0.18.0)\n",
            "Requirement already satisfied: prometheus-client in /usr/local/lib/python3.10/dist-packages (from notebook) (0.19.0)\n",
            "Requirement already satisfied: nbclassic>=0.4.7 in /usr/local/lib/python3.10/dist-packages (from notebook) (1.0.0)\n",
            "Requirement already satisfied: python-dateutil>=2.1 in /usr/local/lib/python3.10/dist-packages (from jupyter-client<8,>=5.3.4->notebook) (2.8.2)\n",
            "Requirement already satisfied: platformdirs>=2.5 in /usr/local/lib/python3.10/dist-packages (from jupyter-core>=4.6.1->notebook) (4.1.0)\n",
            "Requirement already satisfied: jupyter-server>=1.8 in /usr/local/lib/python3.10/dist-packages (from nbclassic>=0.4.7->notebook) (1.24.0)\n",
            "Requirement already satisfied: notebook-shim>=0.2.3 in /usr/local/lib/python3.10/dist-packages (from nbclassic>=0.4.7->notebook) (0.2.3)\n",
            "Requirement already satisfied: lxml in /usr/local/lib/python3.10/dist-packages (from nbconvert>=5->notebook) (4.9.4)\n",
            "Requirement already satisfied: beautifulsoup4 in /usr/local/lib/python3.10/dist-packages (from nbconvert>=5->notebook) (4.11.2)\n",
            "Requirement already satisfied: bleach in /usr/local/lib/python3.10/dist-packages (from nbconvert>=5->notebook) (6.1.0)\n",
            "Requirement already satisfied: defusedxml in /usr/local/lib/python3.10/dist-packages (from nbconvert>=5->notebook) (0.7.1)\n",
            "Requirement already satisfied: entrypoints>=0.2.2 in /usr/local/lib/python3.10/dist-packages (from nbconvert>=5->notebook) (0.4)\n",
            "Requirement already satisfied: jupyterlab-pygments in /usr/local/lib/python3.10/dist-packages (from nbconvert>=5->notebook) (0.3.0)\n",
            "Requirement already satisfied: MarkupSafe>=2.0 in /usr/local/lib/python3.10/dist-packages (from nbconvert>=5->notebook) (2.1.3)\n",
            "Requirement already satisfied: mistune<2,>=0.8.1 in /usr/local/lib/python3.10/dist-packages (from nbconvert>=5->notebook) (0.8.4)\n",
            "Requirement already satisfied: nbclient>=0.5.0 in /usr/local/lib/python3.10/dist-packages (from nbconvert>=5->notebook) (0.9.0)\n",
            "Requirement already satisfied: packaging in /usr/local/lib/python3.10/dist-packages (from nbconvert>=5->notebook) (23.2)\n",
            "Requirement already satisfied: pandocfilters>=1.4.1 in /usr/local/lib/python3.10/dist-packages (from nbconvert>=5->notebook) (1.5.0)\n",
            "Requirement already satisfied: pygments>=2.4.1 in /usr/local/lib/python3.10/dist-packages (from nbconvert>=5->notebook) (2.16.1)\n",
            "Requirement already satisfied: tinycss2 in /usr/local/lib/python3.10/dist-packages (from nbconvert>=5->notebook) (1.2.1)\n",
            "Requirement already satisfied: fastjsonschema in /usr/local/lib/python3.10/dist-packages (from nbformat->notebook) (2.19.0)\n",
            "Requirement already satisfied: jsonschema>=2.6 in /usr/local/lib/python3.10/dist-packages (from nbformat->notebook) (4.19.2)\n",
            "Requirement already satisfied: ptyprocess in /usr/local/lib/python3.10/dist-packages (from terminado>=0.8.3->notebook) (0.7.0)\n",
            "Requirement already satisfied: argon2-cffi-bindings in /usr/local/lib/python3.10/dist-packages (from argon2-cffi->notebook) (21.2.0)\n",
            "Requirement already satisfied: ipython>=5.0.0 in /usr/local/lib/python3.10/dist-packages (from ipykernel->notebook) (7.34.0)\n",
            "Requirement already satisfied: setuptools>=18.5 in /usr/local/lib/python3.10/dist-packages (from ipython>=5.0.0->ipykernel->notebook) (67.7.2)\n",
            "Requirement already satisfied: jedi>=0.16 in /usr/local/lib/python3.10/dist-packages (from ipython>=5.0.0->ipykernel->notebook) (0.19.1)\n",
            "Requirement already satisfied: decorator in /usr/local/lib/python3.10/dist-packages (from ipython>=5.0.0->ipykernel->notebook) (4.4.2)\n",
            "Requirement already satisfied: pickleshare in /usr/local/lib/python3.10/dist-packages (from ipython>=5.0.0->ipykernel->notebook) (0.7.5)\n",
            "Requirement already satisfied: prompt-toolkit!=3.0.0,!=3.0.1,<3.1.0,>=2.0.0 in /usr/local/lib/python3.10/dist-packages (from ipython>=5.0.0->ipykernel->notebook) (3.0.43)\n",
            "Requirement already satisfied: backcall in /usr/local/lib/python3.10/dist-packages (from ipython>=5.0.0->ipykernel->notebook) (0.2.0)\n",
            "Requirement already satisfied: matplotlib-inline in /usr/local/lib/python3.10/dist-packages (from ipython>=5.0.0->ipykernel->notebook) (0.1.6)\n",
            "Requirement already satisfied: pexpect>4.3 in /usr/local/lib/python3.10/dist-packages (from ipython>=5.0.0->ipykernel->notebook) (4.9.0)\n",
            "Requirement already satisfied: attrs>=22.2.0 in /usr/local/lib/python3.10/dist-packages (from jsonschema>=2.6->nbformat->notebook) (23.1.0)\n",
            "Requirement already satisfied: jsonschema-specifications>=2023.03.6 in /usr/local/lib/python3.10/dist-packages (from jsonschema>=2.6->nbformat->notebook) (2023.11.2)\n",
            "Requirement already satisfied: referencing>=0.28.4 in /usr/local/lib/python3.10/dist-packages (from jsonschema>=2.6->nbformat->notebook) (0.32.0)\n",
            "Requirement already satisfied: rpds-py>=0.7.1 in /usr/local/lib/python3.10/dist-packages (from jsonschema>=2.6->nbformat->notebook) (0.15.2)\n",
            "Requirement already satisfied: anyio<4,>=3.1.0 in /usr/local/lib/python3.10/dist-packages (from jupyter-server>=1.8->nbclassic>=0.4.7->notebook) (3.7.1)\n",
            "Requirement already satisfied: websocket-client in /usr/local/lib/python3.10/dist-packages (from jupyter-server>=1.8->nbclassic>=0.4.7->notebook) (1.7.0)\n",
            "Requirement already satisfied: six>=1.5 in /usr/local/lib/python3.10/dist-packages (from python-dateutil>=2.1->jupyter-client<8,>=5.3.4->notebook) (1.16.0)\n",
            "Requirement already satisfied: cffi>=1.0.1 in /usr/local/lib/python3.10/dist-packages (from argon2-cffi-bindings->argon2-cffi->notebook) (1.16.0)\n",
            "Requirement already satisfied: soupsieve>1.2 in /usr/local/lib/python3.10/dist-packages (from beautifulsoup4->nbconvert>=5->notebook) (2.5)\n",
            "Requirement already satisfied: webencodings in /usr/local/lib/python3.10/dist-packages (from bleach->nbconvert>=5->notebook) (0.5.1)\n",
            "Requirement already satisfied: idna>=2.8 in /usr/local/lib/python3.10/dist-packages (from anyio<4,>=3.1.0->jupyter-server>=1.8->nbclassic>=0.4.7->notebook) (3.6)\n",
            "Requirement already satisfied: sniffio>=1.1 in /usr/local/lib/python3.10/dist-packages (from anyio<4,>=3.1.0->jupyter-server>=1.8->nbclassic>=0.4.7->notebook) (1.3.0)\n",
            "Requirement already satisfied: exceptiongroup in /usr/local/lib/python3.10/dist-packages (from anyio<4,>=3.1.0->jupyter-server>=1.8->nbclassic>=0.4.7->notebook) (1.2.0)\n",
            "Requirement already satisfied: pycparser in /usr/local/lib/python3.10/dist-packages (from cffi>=1.0.1->argon2-cffi-bindings->argon2-cffi->notebook) (2.21)\n",
            "Requirement already satisfied: parso<0.9.0,>=0.8.3 in /usr/local/lib/python3.10/dist-packages (from jedi>=0.16->ipython>=5.0.0->ipykernel->notebook) (0.8.3)\n",
            "Requirement already satisfied: wcwidth in /usr/local/lib/python3.10/dist-packages (from prompt-toolkit!=3.0.0,!=3.0.1,<3.1.0,>=2.0.0->ipython>=5.0.0->ipykernel->notebook) (0.2.12)\n",
            "Collecting ydata-profiling\n",
            "  Using cached ydata_profiling-4.6.3-py2.py3-none-any.whl (357 kB)\n",
            "Requirement already satisfied: scipy<1.12,>=1.4.1 in /usr/local/lib/python3.10/dist-packages (from ydata-profiling) (1.11.4)\n",
            "Requirement already satisfied: pandas!=1.4.0,<3,>1.1 in /usr/local/lib/python3.10/dist-packages (from ydata-profiling) (1.5.3)\n",
            "Requirement already satisfied: matplotlib<3.9,>=3.2 in /usr/local/lib/python3.10/dist-packages (from ydata-profiling) (3.7.1)\n",
            "Collecting pydantic>=2 (from ydata-profiling)\n",
            "  Using cached pydantic-2.5.3-py3-none-any.whl (381 kB)\n",
            "Requirement already satisfied: PyYAML<6.1,>=5.0.0 in /usr/local/lib/python3.10/dist-packages (from ydata-profiling) (6.0.1)\n",
            "Requirement already satisfied: jinja2<3.2,>=2.11.1 in /usr/local/lib/python3.10/dist-packages (from ydata-profiling) (3.1.2)\n",
            "Collecting visions[type_image_path]==0.7.5 (from ydata-profiling)\n",
            "  Using cached visions-0.7.5-py3-none-any.whl (102 kB)\n",
            "Requirement already satisfied: numpy<1.26,>=1.16.0 in /usr/local/lib/python3.10/dist-packages (from ydata-profiling) (1.23.5)\n",
            "Requirement already satisfied: htmlmin==0.1.12 in /usr/local/lib/python3.10/dist-packages (from ydata-profiling) (0.1.12)\n",
            "Collecting phik<0.13,>=0.11.1 (from ydata-profiling)\n",
            "  Using cached phik-0.12.3-cp310-cp310-manylinux_2_17_x86_64.manylinux2014_x86_64.whl (679 kB)\n",
            "Requirement already satisfied: requests<3,>=2.24.0 in /usr/local/lib/python3.10/dist-packages (from ydata-profiling) (2.31.0)\n",
            "Requirement already satisfied: tqdm<5,>=4.48.2 in /usr/local/lib/python3.10/dist-packages (from ydata-profiling) (4.66.1)\n",
            "Requirement already satisfied: seaborn<0.13,>=0.10.1 in /usr/local/lib/python3.10/dist-packages (from ydata-profiling) (0.12.2)\n",
            "Collecting multimethod<2,>=1.4 (from ydata-profiling)\n",
            "  Using cached multimethod-1.10-py3-none-any.whl (9.9 kB)\n",
            "Requirement already satisfied: statsmodels<1,>=0.13.2 in /usr/local/lib/python3.10/dist-packages (from ydata-profiling) (0.14.1)\n",
            "Collecting typeguard<5,>=4.1.2 (from ydata-profiling)\n",
            "  Using cached typeguard-4.1.5-py3-none-any.whl (34 kB)\n",
            "Collecting imagehash==4.3.1 (from ydata-profiling)\n",
            "  Using cached ImageHash-4.3.1-py2.py3-none-any.whl (296 kB)\n",
            "Requirement already satisfied: wordcloud>=1.9.1 in /usr/local/lib/python3.10/dist-packages (from ydata-profiling) (1.9.3)\n",
            "Collecting dacite>=1.8 (from ydata-profiling)\n",
            "  Using cached dacite-1.8.1-py3-none-any.whl (14 kB)\n",
            "Requirement already satisfied: numba<0.59.0,>=0.56.0 in /usr/local/lib/python3.10/dist-packages (from ydata-profiling) (0.58.1)\n",
            "Requirement already satisfied: PyWavelets in /usr/local/lib/python3.10/dist-packages (from imagehash==4.3.1->ydata-profiling) (1.5.0)\n",
            "Requirement already satisfied: pillow in /usr/local/lib/python3.10/dist-packages (from imagehash==4.3.1->ydata-profiling) (9.4.0)\n",
            "Requirement already satisfied: attrs>=19.3.0 in /usr/local/lib/python3.10/dist-packages (from visions[type_image_path]==0.7.5->ydata-profiling) (23.1.0)\n",
            "Requirement already satisfied: networkx>=2.4 in /usr/local/lib/python3.10/dist-packages (from visions[type_image_path]==0.7.5->ydata-profiling) (3.2.1)\n",
            "Collecting tangled-up-in-unicode>=0.0.4 (from visions[type_image_path]==0.7.5->ydata-profiling)\n",
            "  Using cached tangled_up_in_unicode-0.2.0-py3-none-any.whl (4.7 MB)\n",
            "Requirement already satisfied: MarkupSafe>=2.0 in /usr/local/lib/python3.10/dist-packages (from jinja2<3.2,>=2.11.1->ydata-profiling) (2.1.3)\n",
            "Requirement already satisfied: contourpy>=1.0.1 in /usr/local/lib/python3.10/dist-packages (from matplotlib<3.9,>=3.2->ydata-profiling) (1.2.0)\n",
            "Requirement already satisfied: cycler>=0.10 in /usr/local/lib/python3.10/dist-packages (from matplotlib<3.9,>=3.2->ydata-profiling) (0.12.1)\n",
            "Requirement already satisfied: fonttools>=4.22.0 in /usr/local/lib/python3.10/dist-packages (from matplotlib<3.9,>=3.2->ydata-profiling) (4.47.0)\n",
            "Requirement already satisfied: kiwisolver>=1.0.1 in /usr/local/lib/python3.10/dist-packages (from matplotlib<3.9,>=3.2->ydata-profiling) (1.4.5)\n",
            "Requirement already satisfied: packaging>=20.0 in /usr/local/lib/python3.10/dist-packages (from matplotlib<3.9,>=3.2->ydata-profiling) (23.2)\n",
            "Requirement already satisfied: pyparsing>=2.3.1 in /usr/local/lib/python3.10/dist-packages (from matplotlib<3.9,>=3.2->ydata-profiling) (3.1.1)\n",
            "Requirement already satisfied: python-dateutil>=2.7 in /usr/local/lib/python3.10/dist-packages (from matplotlib<3.9,>=3.2->ydata-profiling) (2.8.2)\n",
            "Requirement already satisfied: llvmlite<0.42,>=0.41.0dev0 in /usr/local/lib/python3.10/dist-packages (from numba<0.59.0,>=0.56.0->ydata-profiling) (0.41.1)\n",
            "Requirement already satisfied: pytz>=2020.1 in /usr/local/lib/python3.10/dist-packages (from pandas!=1.4.0,<3,>1.1->ydata-profiling) (2023.3.post1)\n",
            "Requirement already satisfied: joblib>=0.14.1 in /usr/local/lib/python3.10/dist-packages (from phik<0.13,>=0.11.1->ydata-profiling) (1.3.2)\n",
            "Collecting annotated-types>=0.4.0 (from pydantic>=2->ydata-profiling)\n",
            "  Using cached annotated_types-0.6.0-py3-none-any.whl (12 kB)\n",
            "Collecting pydantic-core==2.14.6 (from pydantic>=2->ydata-profiling)\n",
            "  Using cached pydantic_core-2.14.6-cp310-cp310-manylinux_2_17_x86_64.manylinux2014_x86_64.whl (2.1 MB)\n",
            "Collecting typing-extensions>=4.6.1 (from pydantic>=2->ydata-profiling)\n",
            "  Using cached typing_extensions-4.9.0-py3-none-any.whl (32 kB)\n",
            "Requirement already satisfied: charset-normalizer<4,>=2 in /usr/local/lib/python3.10/dist-packages (from requests<3,>=2.24.0->ydata-profiling) (3.3.2)\n",
            "Requirement already satisfied: idna<4,>=2.5 in /usr/local/lib/python3.10/dist-packages (from requests<3,>=2.24.0->ydata-profiling) (3.6)\n",
            "Requirement already satisfied: urllib3<3,>=1.21.1 in /usr/local/lib/python3.10/dist-packages (from requests<3,>=2.24.0->ydata-profiling) (2.0.7)\n",
            "Requirement already satisfied: certifi>=2017.4.17 in /usr/local/lib/python3.10/dist-packages (from requests<3,>=2.24.0->ydata-profiling) (2023.11.17)\n",
            "Requirement already satisfied: patsy>=0.5.4 in /usr/local/lib/python3.10/dist-packages (from statsmodels<1,>=0.13.2->ydata-profiling) (0.5.4)\n",
            "Requirement already satisfied: six in /usr/local/lib/python3.10/dist-packages (from patsy>=0.5.4->statsmodels<1,>=0.13.2->ydata-profiling) (1.16.0)\n",
            "Installing collected packages: typing-extensions, tangled-up-in-unicode, multimethod, dacite, annotated-types, typeguard, pydantic-core, imagehash, visions, pydantic, phik, ydata-profiling\n",
            "  Attempting uninstall: typing-extensions\n",
            "    Found existing installation: typing_extensions 4.5.0\n",
            "    Uninstalling typing_extensions-4.5.0:\n",
            "      Successfully uninstalled typing_extensions-4.5.0\n",
            "  Attempting uninstall: pydantic\n",
            "    Found existing installation: pydantic 1.10.13\n",
            "    Uninstalling pydantic-1.10.13:\n",
            "      Successfully uninstalled pydantic-1.10.13\n",
            "\u001b[31mERROR: pip's dependency resolver does not currently take into account all the packages that are installed. This behaviour is the source of the following dependency conflicts.\n",
            "lida 0.0.10 requires fastapi, which is not installed.\n",
            "lida 0.0.10 requires kaleido, which is not installed.\n",
            "lida 0.0.10 requires python-multipart, which is not installed.\n",
            "lida 0.0.10 requires uvicorn, which is not installed.\n",
            "llmx 0.0.15a0 requires cohere, which is not installed.\n",
            "llmx 0.0.15a0 requires openai, which is not installed.\n",
            "llmx 0.0.15a0 requires tiktoken, which is not installed.\n",
            "orbax-checkpoint 0.4.4 requires jax>=0.4.9, but you have jax 0.3.25 which is incompatible.\n",
            "tensorflow-probability 0.22.0 requires typing-extensions<4.6.0, but you have typing-extensions 4.9.0 which is incompatible.\u001b[0m\u001b[31m\n",
            "\u001b[0mSuccessfully installed annotated-types-0.6.0 dacite-1.8.1 imagehash-4.3.1 multimethod-1.10 phik-0.12.3 pydantic-2.5.3 pydantic-core-2.14.6 tangled-up-in-unicode-0.2.0 typeguard-4.1.5 typing-extensions-4.9.0 visions-0.7.5 ydata-profiling-4.6.3\n",
            "\u001b[31mERROR: Could not find a version that satisfies the requirement pandas-profiling==2.7.1 (from versions: 3.0.0, 3.1.0, 3.2.0, 3.3.0, 3.4.0, 3.5.0, 3.6.0, 3.6.1, 3.6.2, 3.6.3, 3.6.4, 3.6.5, 3.6.6)\u001b[0m\u001b[31m\n",
            "\u001b[0m\u001b[31mERROR: No matching distribution found for pandas-profiling==2.7.1\u001b[0m\u001b[31m\n",
            "\u001b[0m"
          ]
        }
      ],
      "source": [
        "!pip install notebook\n",
        "!pip install -U ydata-profiling\n",
        "!pip install pandas-profiling==2.7.1"
      ]
    },
    {
      "cell_type": "markdown",
      "metadata": {
        "id": "we_syJsLsi-3"
      },
      "source": [
        "**STEP 2: Import Python libraries that required for Automated EDA using Pandas-Profiling**"
      ]
    },
    {
      "cell_type": "code",
      "execution_count": 3,
      "metadata": {
        "id": "Bao0eEw_sdTM"
      },
      "outputs": [],
      "source": [
        "from pathlib import Path\n",
        "import pandas as pd\n",
        "from ydata_profiling import ProfileReport"
      ]
    },
    {
      "cell_type": "markdown",
      "metadata": {
        "id": "PSfBzosls9hx"
      },
      "source": [
        "**STEP 3: Retrieving the Cleaned Dataset**"
      ]
    },
    {
      "cell_type": "code",
      "execution_count": 4,
      "metadata": {
        "id": "6AdDXB5LtH-i"
      },
      "outputs": [],
      "source": [
        "df = pd.read_csv(\"https://raw.githubusercontent.com/drshahizan/Python_EDA/main/assignment/ass2/bdm/RAM/apims-20kdata-cleaned.csv\")"
      ]
    },
    {
      "cell_type": "markdown",
      "metadata": {
        "id": "3gEq6ix3uwdZ"
      },
      "source": [
        "**STEP 4: Generate the profile**"
      ]
    },
    {
      "cell_type": "code",
      "execution_count": null,
      "metadata": {
        "id": "1CFmNxGGBjz6",
        "colab": {
          "base_uri": "https://localhost:8080/",
          "height": 49,
          "referenced_widgets": [
            "ab5e4b006d664e7eaf92f67c598db56f",
            "722bdbd2d89e429daf1586cd1354eb2d",
            "25f75b506f7041aaad86aeef9a98ff17",
            "fae29efd60d14a10b1111981d7a2d2ae",
            "2ebb1c7a74c14d02b97eb2a3185c1acf",
            "8e63df2b434b4282a8310e1d528ee753",
            "9e9ff0c5100e42f4a97e7a266f5be029",
            "7f12480197de4132992d017b58346182",
            "7bde8bf9f2634881b788788ba7f0fc88",
            "1c8566344b2347ce86b7f8b0cd3bf06c",
            "11055c6ccd80496b92b64d5696622e61"
          ]
        },
        "outputId": "3bcebaca-7b68-45b6-ab61-0042531c483b"
      },
      "outputs": [
        {
          "output_type": "display_data",
          "data": {
            "text/plain": [
              "Summarize dataset:   0%|          | 0/5 [00:00<?, ?it/s]"
            ],
            "application/vnd.jupyter.widget-view+json": {
              "version_major": 2,
              "version_minor": 0,
              "model_id": "ab5e4b006d664e7eaf92f67c598db56f"
            }
          },
          "metadata": {}
        }
      ],
      "source": [
        "profile = ProfileReport(\n",
        "    df, title=\"Air Pollution Index (API) in Malaysia - EDA\", html={\"style\": {\"full_width\": True}}, sort=None\n",
        ")\n",
        "profile"
      ]
    },
    {
      "cell_type": "markdown",
      "metadata": {
        "id": "D-4v1m0dwMue"
      },
      "source": [
        "### **Conclusion and Inferences**"
      ]
    },
    {
      "cell_type": "markdown",
      "metadata": {
        "id": "HkoHkRdkweyq"
      },
      "source": [
        "For a comprehensive analysis, researchers and environmental agencies often study trends over time, identifying sources of pollution and implementing measures to improve air quality. Public awareness campaigns and policy interventions may also be designed based on this analysis to address specific pollution challenges in different Malaysian states."
      ]
    },
    {
      "cell_type": "markdown",
      "metadata": {
        "id": "ii_gVXb-xYIo"
      },
      "source": [
        "Pros and Cons of conducting Automated EDA using Pandas-Profiling"
      ]
    },
    {
      "cell_type": "markdown",
      "metadata": {
        "id": "XMwSfKSr0KaN"
      },
      "source": [
        "### Pros\n",
        "\n",
        "(1) Pandas Profiling is helpful for exploratory data analysis since it offers a quick and simple method of conducting an initial data analysis.\n",
        "\n",
        "(2) As opposed to manually creating code to investigate the data, it creates a comprehensive report with summary statistics, data type information, data distributions, correlations, and more, which can save a significant amount of time\n",
        "\n",
        "(3) You can use the visualizations in the library to better comprehend your data graphically. Examples of these visualizations are correlation matrices, scatter plots, and histograms.\n",
        "\n",
        "(4) Issues with data quality, such as missing values, outliers, and duplicate rows, can be swiftly identified with the aid of this report.\n",
        "\n",
        "(5) To improve teamwork, the created report can be shared with stakeholders or other team members in an easy-to-use HTML format.\n",
        "\n",
        "(6) By choosing which analyses to include and adjusting settings, you may somewhat tailor the report.\n",
        "\n",
        "### Cons\n",
        "\n",
        "(1) Large dataset report generation can be resource-intensive, resulting in lengthy processing times or even memory leaks. In these situations, you may need to sample or subset your data.\n",
        "\n",
        "(2) Although Pandas Profiling offers a wealth of helpful data, it is not capable of carrying out more complex statistical analysis or machine learning activities. It works well for initial data investigation.\n",
        "\n",
        "(3) Pandas Profiling might not be the ideal option if you need to generate reports programmatically as part of an automated data processing pipeline because it involves manual intervention to generate and see the results.\n",
        "\n",
        "(4) Although you can alter certain parts of the report, if you require extremely personalized data analysis and visualization, you could find it to be restrictive.\n",
        "\n",
        "(5) Pandas Profiling is a third-party library, maintenance problems could arise if it isn't always compatible with the most recent Pandas or Python versions."
      ]
    },
    {
      "cell_type": "markdown",
      "metadata": {
        "id": "9cVW_sl138Uq"
      },
      "source": [
        "### **References**"
      ]
    },
    {
      "cell_type": "markdown",
      "metadata": {
        "id": "Q81UdMfP4Bvr"
      },
      "source": [
        "GitHub - Ydataai/Ydata-profiling: 1 Line of Code Data Quality Profiling & Exploratory Data Analysis for Pandas and Spark DataFrames. (n.d.). https://github.com/ydataai/ydata-profiling"
      ]
    }
  ],
  "metadata": {
    "colab": {
      "provenance": [],
      "include_colab_link": true
    },
    "kernelspec": {
      "display_name": "Python 3",
      "name": "python3"
    },
    "language_info": {
      "codemirror_mode": {
        "name": "ipython",
        "version": 3
      },
      "file_extension": ".py",
      "mimetype": "text/x-python",
      "name": "python",
      "nbconvert_exporter": "python",
      "pygments_lexer": "ipython3",
      "version": "3.11.5"
    },
    "accelerator": "TPU",
    "widgets": {
      "application/vnd.jupyter.widget-state+json": {
        "ab5e4b006d664e7eaf92f67c598db56f": {
          "model_module": "@jupyter-widgets/controls",
          "model_name": "HBoxModel",
          "model_module_version": "1.5.0",
          "state": {
            "_dom_classes": [],
            "_model_module": "@jupyter-widgets/controls",
            "_model_module_version": "1.5.0",
            "_model_name": "HBoxModel",
            "_view_count": null,
            "_view_module": "@jupyter-widgets/controls",
            "_view_module_version": "1.5.0",
            "_view_name": "HBoxView",
            "box_style": "",
            "children": [
              "IPY_MODEL_722bdbd2d89e429daf1586cd1354eb2d",
              "IPY_MODEL_25f75b506f7041aaad86aeef9a98ff17",
              "IPY_MODEL_fae29efd60d14a10b1111981d7a2d2ae"
            ],
            "layout": "IPY_MODEL_2ebb1c7a74c14d02b97eb2a3185c1acf"
          }
        },
        "722bdbd2d89e429daf1586cd1354eb2d": {
          "model_module": "@jupyter-widgets/controls",
          "model_name": "HTMLModel",
          "model_module_version": "1.5.0",
          "state": {
            "_dom_classes": [],
            "_model_module": "@jupyter-widgets/controls",
            "_model_module_version": "1.5.0",
            "_model_name": "HTMLModel",
            "_view_count": null,
            "_view_module": "@jupyter-widgets/controls",
            "_view_module_version": "1.5.0",
            "_view_name": "HTMLView",
            "description": "",
            "description_tooltip": null,
            "layout": "IPY_MODEL_8e63df2b434b4282a8310e1d528ee753",
            "placeholder": "​",
            "style": "IPY_MODEL_9e9ff0c5100e42f4a97e7a266f5be029",
            "value": "Summarize dataset:  50%"
          }
        },
        "25f75b506f7041aaad86aeef9a98ff17": {
          "model_module": "@jupyter-widgets/controls",
          "model_name": "FloatProgressModel",
          "model_module_version": "1.5.0",
          "state": {
            "_dom_classes": [],
            "_model_module": "@jupyter-widgets/controls",
            "_model_module_version": "1.5.0",
            "_model_name": "FloatProgressModel",
            "_view_count": null,
            "_view_module": "@jupyter-widgets/controls",
            "_view_module_version": "1.5.0",
            "_view_name": "ProgressView",
            "bar_style": "",
            "description": "",
            "description_tooltip": null,
            "layout": "IPY_MODEL_7f12480197de4132992d017b58346182",
            "max": 5,
            "min": 0,
            "orientation": "horizontal",
            "style": "IPY_MODEL_7bde8bf9f2634881b788788ba7f0fc88",
            "value": 5
          }
        },
        "fae29efd60d14a10b1111981d7a2d2ae": {
          "model_module": "@jupyter-widgets/controls",
          "model_name": "HTMLModel",
          "model_module_version": "1.5.0",
          "state": {
            "_dom_classes": [],
            "_model_module": "@jupyter-widgets/controls",
            "_model_module_version": "1.5.0",
            "_model_name": "HTMLModel",
            "_view_count": null,
            "_view_module": "@jupyter-widgets/controls",
            "_view_module_version": "1.5.0",
            "_view_name": "HTMLView",
            "description": "",
            "description_tooltip": null,
            "layout": "IPY_MODEL_1c8566344b2347ce86b7f8b0cd3bf06c",
            "placeholder": "​",
            "style": "IPY_MODEL_11055c6ccd80496b92b64d5696622e61",
            "value": " 2075/4170 [10:08&lt;09:19,  3.74it/s, scatter kota bharu, limbang]"
          }
        },
        "2ebb1c7a74c14d02b97eb2a3185c1acf": {
          "model_module": "@jupyter-widgets/base",
          "model_name": "LayoutModel",
          "model_module_version": "1.2.0",
          "state": {
            "_model_module": "@jupyter-widgets/base",
            "_model_module_version": "1.2.0",
            "_model_name": "LayoutModel",
            "_view_count": null,
            "_view_module": "@jupyter-widgets/base",
            "_view_module_version": "1.2.0",
            "_view_name": "LayoutView",
            "align_content": null,
            "align_items": null,
            "align_self": null,
            "border": null,
            "bottom": null,
            "display": null,
            "flex": null,
            "flex_flow": null,
            "grid_area": null,
            "grid_auto_columns": null,
            "grid_auto_flow": null,
            "grid_auto_rows": null,
            "grid_column": null,
            "grid_gap": null,
            "grid_row": null,
            "grid_template_areas": null,
            "grid_template_columns": null,
            "grid_template_rows": null,
            "height": null,
            "justify_content": null,
            "justify_items": null,
            "left": null,
            "margin": null,
            "max_height": null,
            "max_width": null,
            "min_height": null,
            "min_width": null,
            "object_fit": null,
            "object_position": null,
            "order": null,
            "overflow": null,
            "overflow_x": null,
            "overflow_y": null,
            "padding": null,
            "right": null,
            "top": null,
            "visibility": null,
            "width": null
          }
        },
        "8e63df2b434b4282a8310e1d528ee753": {
          "model_module": "@jupyter-widgets/base",
          "model_name": "LayoutModel",
          "model_module_version": "1.2.0",
          "state": {
            "_model_module": "@jupyter-widgets/base",
            "_model_module_version": "1.2.0",
            "_model_name": "LayoutModel",
            "_view_count": null,
            "_view_module": "@jupyter-widgets/base",
            "_view_module_version": "1.2.0",
            "_view_name": "LayoutView",
            "align_content": null,
            "align_items": null,
            "align_self": null,
            "border": null,
            "bottom": null,
            "display": null,
            "flex": null,
            "flex_flow": null,
            "grid_area": null,
            "grid_auto_columns": null,
            "grid_auto_flow": null,
            "grid_auto_rows": null,
            "grid_column": null,
            "grid_gap": null,
            "grid_row": null,
            "grid_template_areas": null,
            "grid_template_columns": null,
            "grid_template_rows": null,
            "height": null,
            "justify_content": null,
            "justify_items": null,
            "left": null,
            "margin": null,
            "max_height": null,
            "max_width": null,
            "min_height": null,
            "min_width": null,
            "object_fit": null,
            "object_position": null,
            "order": null,
            "overflow": null,
            "overflow_x": null,
            "overflow_y": null,
            "padding": null,
            "right": null,
            "top": null,
            "visibility": null,
            "width": null
          }
        },
        "9e9ff0c5100e42f4a97e7a266f5be029": {
          "model_module": "@jupyter-widgets/controls",
          "model_name": "DescriptionStyleModel",
          "model_module_version": "1.5.0",
          "state": {
            "_model_module": "@jupyter-widgets/controls",
            "_model_module_version": "1.5.0",
            "_model_name": "DescriptionStyleModel",
            "_view_count": null,
            "_view_module": "@jupyter-widgets/base",
            "_view_module_version": "1.2.0",
            "_view_name": "StyleView",
            "description_width": ""
          }
        },
        "7f12480197de4132992d017b58346182": {
          "model_module": "@jupyter-widgets/base",
          "model_name": "LayoutModel",
          "model_module_version": "1.2.0",
          "state": {
            "_model_module": "@jupyter-widgets/base",
            "_model_module_version": "1.2.0",
            "_model_name": "LayoutModel",
            "_view_count": null,
            "_view_module": "@jupyter-widgets/base",
            "_view_module_version": "1.2.0",
            "_view_name": "LayoutView",
            "align_content": null,
            "align_items": null,
            "align_self": null,
            "border": null,
            "bottom": null,
            "display": null,
            "flex": null,
            "flex_flow": null,
            "grid_area": null,
            "grid_auto_columns": null,
            "grid_auto_flow": null,
            "grid_auto_rows": null,
            "grid_column": null,
            "grid_gap": null,
            "grid_row": null,
            "grid_template_areas": null,
            "grid_template_columns": null,
            "grid_template_rows": null,
            "height": null,
            "justify_content": null,
            "justify_items": null,
            "left": null,
            "margin": null,
            "max_height": null,
            "max_width": null,
            "min_height": null,
            "min_width": null,
            "object_fit": null,
            "object_position": null,
            "order": null,
            "overflow": null,
            "overflow_x": null,
            "overflow_y": null,
            "padding": null,
            "right": null,
            "top": null,
            "visibility": null,
            "width": null
          }
        },
        "7bde8bf9f2634881b788788ba7f0fc88": {
          "model_module": "@jupyter-widgets/controls",
          "model_name": "ProgressStyleModel",
          "model_module_version": "1.5.0",
          "state": {
            "_model_module": "@jupyter-widgets/controls",
            "_model_module_version": "1.5.0",
            "_model_name": "ProgressStyleModel",
            "_view_count": null,
            "_view_module": "@jupyter-widgets/base",
            "_view_module_version": "1.2.0",
            "_view_name": "StyleView",
            "bar_color": null,
            "description_width": ""
          }
        },
        "1c8566344b2347ce86b7f8b0cd3bf06c": {
          "model_module": "@jupyter-widgets/base",
          "model_name": "LayoutModel",
          "model_module_version": "1.2.0",
          "state": {
            "_model_module": "@jupyter-widgets/base",
            "_model_module_version": "1.2.0",
            "_model_name": "LayoutModel",
            "_view_count": null,
            "_view_module": "@jupyter-widgets/base",
            "_view_module_version": "1.2.0",
            "_view_name": "LayoutView",
            "align_content": null,
            "align_items": null,
            "align_self": null,
            "border": null,
            "bottom": null,
            "display": null,
            "flex": null,
            "flex_flow": null,
            "grid_area": null,
            "grid_auto_columns": null,
            "grid_auto_flow": null,
            "grid_auto_rows": null,
            "grid_column": null,
            "grid_gap": null,
            "grid_row": null,
            "grid_template_areas": null,
            "grid_template_columns": null,
            "grid_template_rows": null,
            "height": null,
            "justify_content": null,
            "justify_items": null,
            "left": null,
            "margin": null,
            "max_height": null,
            "max_width": null,
            "min_height": null,
            "min_width": null,
            "object_fit": null,
            "object_position": null,
            "order": null,
            "overflow": null,
            "overflow_x": null,
            "overflow_y": null,
            "padding": null,
            "right": null,
            "top": null,
            "visibility": null,
            "width": null
          }
        },
        "11055c6ccd80496b92b64d5696622e61": {
          "model_module": "@jupyter-widgets/controls",
          "model_name": "DescriptionStyleModel",
          "model_module_version": "1.5.0",
          "state": {
            "_model_module": "@jupyter-widgets/controls",
            "_model_module_version": "1.5.0",
            "_model_name": "DescriptionStyleModel",
            "_view_count": null,
            "_view_module": "@jupyter-widgets/base",
            "_view_module_version": "1.2.0",
            "_view_name": "StyleView",
            "description_width": ""
          }
        }
      }
    }
  },
  "nbformat": 4,
  "nbformat_minor": 0
}